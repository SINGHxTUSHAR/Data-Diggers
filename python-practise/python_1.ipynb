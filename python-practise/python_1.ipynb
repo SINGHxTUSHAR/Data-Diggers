{
 "cells": [
  {
   "cell_type": "code",
   "execution_count": 1,
   "id": "e3ea7b34",
   "metadata": {},
   "outputs": [
    {
     "data": {
      "text/plain": [
       "2.3333333333333335"
      ]
     },
     "execution_count": 1,
     "metadata": {},
     "output_type": "execute_result"
    }
   ],
   "source": [
    "7/3"
   ]
  },
  {
   "cell_type": "code",
   "execution_count": 2,
   "id": "5b86df60",
   "metadata": {},
   "outputs": [
    {
     "data": {
      "text/plain": [
       "2"
      ]
     },
     "execution_count": 2,
     "metadata": {},
     "output_type": "execute_result"
    }
   ],
   "source": [
    "7//3"
   ]
  },
  {
   "cell_type": "code",
   "execution_count": 3,
   "id": "bb2c5fa1",
   "metadata": {},
   "outputs": [
    {
     "data": {
      "text/plain": [
       "2.6666666666666665"
      ]
     },
     "execution_count": 3,
     "metadata": {},
     "output_type": "execute_result"
    }
   ],
   "source": [
    "8/3"
   ]
  },
  {
   "cell_type": "code",
   "execution_count": 4,
   "id": "3482124a",
   "metadata": {},
   "outputs": [
    {
     "data": {
      "text/plain": [
       "2"
      ]
     },
     "execution_count": 4,
     "metadata": {},
     "output_type": "execute_result"
    }
   ],
   "source": [
    "8//3"
   ]
  },
  {
   "cell_type": "code",
   "execution_count": 6,
   "id": "87e8c2c2",
   "metadata": {},
   "outputs": [],
   "source": [
    "#floor value & ceil value\n",
    "# floor value  - 2.6666 = 2 && ceil value - 2.6666 = 3"
   ]
  },
  {
   "cell_type": "code",
   "execution_count": 7,
   "id": "d6d2ca48",
   "metadata": {},
   "outputs": [
    {
     "data": {
      "text/plain": [
       "3"
      ]
     },
     "execution_count": 7,
     "metadata": {},
     "output_type": "execute_result"
    }
   ],
   "source": [
    "7%4"
   ]
  },
  {
   "cell_type": "code",
   "execution_count": 8,
   "id": "77947ca8",
   "metadata": {},
   "outputs": [
    {
     "data": {
      "text/plain": [
       "32"
      ]
     },
     "execution_count": 8,
     "metadata": {},
     "output_type": "execute_result"
    }
   ],
   "source": [
    "2**5"
   ]
  },
  {
   "cell_type": "code",
   "execution_count": 12,
   "id": "066333de",
   "metadata": {},
   "outputs": [],
   "source": [
    "#strings\n",
    "\n",
    "s = \"TUSHAR SINGH RAWAT's\""
   ]
  },
  {
   "cell_type": "code",
   "execution_count": 18,
   "id": "0d2ed631",
   "metadata": {},
   "outputs": [
    {
     "name": "stdout",
     "output_type": "stream",
     "text": [
      "TUSHAR SINGH RAWAT's\n"
     ]
    }
   ],
   "source": [
    "print(s)"
   ]
  },
  {
   "cell_type": "code",
   "execution_count": 15,
   "id": "cd8efa8d",
   "metadata": {},
   "outputs": [
    {
     "ename": "SyntaxError",
     "evalue": "EOL while scanning string literal (225825024.py, line 1)",
     "output_type": "error",
     "traceback": [
      "\u001b[1;36m  Cell \u001b[1;32mIn[15], line 1\u001b[1;36m\u001b[0m\n\u001b[1;33m    s1 = 'tushar singh rawat'%s'\u001b[0m\n\u001b[1;37m                                ^\u001b[0m\n\u001b[1;31mSyntaxError\u001b[0m\u001b[1;31m:\u001b[0m EOL while scanning string literal\n"
     ]
    }
   ],
   "source": [
    "s1 = 'tushar singh rawat's'"
   ]
  },
  {
   "cell_type": "code",
   "execution_count": 19,
   "id": "fa96c7e1",
   "metadata": {},
   "outputs": [
    {
     "data": {
      "text/plain": [
       "20"
      ]
     },
     "execution_count": 19,
     "metadata": {},
     "output_type": "execute_result"
    }
   ],
   "source": [
    "len(s)"
   ]
  },
  {
   "cell_type": "code",
   "execution_count": 28,
   "id": "a14c5f25",
   "metadata": {},
   "outputs": [],
   "source": [
    "s = s.lower()"
   ]
  },
  {
   "cell_type": "code",
   "execution_count": 29,
   "id": "a8a2295d",
   "metadata": {},
   "outputs": [
    {
     "data": {
      "text/plain": [
       "4"
      ]
     },
     "execution_count": 29,
     "metadata": {},
     "output_type": "execute_result"
    }
   ],
   "source": [
    "s.find(\"a\")"
   ]
  },
  {
   "cell_type": "code",
   "execution_count": 31,
   "id": "45fee0c3",
   "metadata": {},
   "outputs": [
    {
     "data": {
      "text/plain": [
       "\"tushzr singh rzwzt's\""
      ]
     },
     "execution_count": 31,
     "metadata": {},
     "output_type": "execute_result"
    }
   ],
   "source": [
    "s.replace('a', 'z')"
   ]
  },
  {
   "cell_type": "code",
   "execution_count": 32,
   "id": "06d2cccf",
   "metadata": {},
   "outputs": [],
   "source": [
    "a = \"tushar singh\""
   ]
  },
  {
   "cell_type": "code",
   "execution_count": 33,
   "id": "d1a66ef6",
   "metadata": {},
   "outputs": [
    {
     "data": {
      "text/plain": [
       "'tushar singh'"
      ]
     },
     "execution_count": 33,
     "metadata": {},
     "output_type": "execute_result"
    }
   ],
   "source": [
    "a"
   ]
  },
  {
   "cell_type": "code",
   "execution_count": 42,
   "id": "8233c5a7",
   "metadata": {},
   "outputs": [
    {
     "data": {
      "text/plain": [
       "'tushar singh'"
      ]
     },
     "execution_count": 42,
     "metadata": {},
     "output_type": "execute_result"
    }
   ],
   "source": [
    "a[:]"
   ]
  },
  {
   "cell_type": "code",
   "execution_count": 57,
   "id": "a48079cf",
   "metadata": {},
   "outputs": [
    {
     "data": {
      "text/plain": [
       "'hgnis rahsut'"
      ]
     },
     "execution_count": 57,
     "metadata": {},
     "output_type": "execute_result"
    }
   ],
   "source": [
    "#reverse the string\n",
    "a[::-1] "
   ]
  },
  {
   "cell_type": "code",
   "execution_count": 61,
   "id": "e5e886cc",
   "metadata": {},
   "outputs": [
    {
     "data": {
      "text/plain": [
       "'tushar'"
      ]
     },
     "execution_count": 61,
     "metadata": {},
     "output_type": "execute_result"
    }
   ],
   "source": [
    "a[0:-6]"
   ]
  },
  {
   "cell_type": "code",
   "execution_count": 62,
   "id": "e160ef3e",
   "metadata": {},
   "outputs": [],
   "source": [
    "x = \"loda\""
   ]
  },
  {
   "cell_type": "code",
   "execution_count": 63,
   "id": "81e40116",
   "metadata": {},
   "outputs": [],
   "source": [
    "y = \"lasun\""
   ]
  },
  {
   "cell_type": "code",
   "execution_count": 68,
   "id": "bd404ae7",
   "metadata": {},
   "outputs": [
    {
     "name": "stdout",
     "output_type": "stream",
     "text": [
      "loda lasun\n"
     ]
    }
   ],
   "source": [
    "z = x + \" \" + y\n",
    "print(z)"
   ]
  },
  {
   "cell_type": "code",
   "execution_count": 69,
   "id": "a2c8f2a3",
   "metadata": {},
   "outputs": [
    {
     "data": {
      "text/plain": [
       "'loda lasun'"
      ]
     },
     "execution_count": 69,
     "metadata": {},
     "output_type": "execute_result"
    }
   ],
   "source": [
    "z"
   ]
  },
  {
   "cell_type": "code",
   "execution_count": 70,
   "id": "d64c917f",
   "metadata": {},
   "outputs": [
    {
     "data": {
      "text/plain": [
       "['loda', 'lasun']"
      ]
     },
     "execution_count": 70,
     "metadata": {},
     "output_type": "execute_result"
    }
   ],
   "source": [
    "z.split()"
   ]
  },
  {
   "cell_type": "code",
   "execution_count": 79,
   "id": "c7208304",
   "metadata": {},
   "outputs": [
    {
     "name": "stdout",
     "output_type": "stream",
     "text": [
      "hello my name is TUSHAR SINGH RAWAT and i love to code in c++\n"
     ]
    }
   ],
   "source": [
    "# .format() to print the string\n",
    "print(\"hello my name is {} and i love to code in {}\".format(\"TUSHAR SINGH RAWAT\", \"c++\"))"
   ]
  },
  {
   "cell_type": "code",
   "execution_count": 78,
   "id": "f78ba6c7",
   "metadata": {},
   "outputs": [
    {
     "name": "stdout",
     "output_type": "stream",
     "text": [
      "hello my name is tushar0 and i love to code in c++\n"
     ]
    }
   ],
   "source": [
    "# placeholder method to print the string\n",
    "print(\"hello my name is %s and i love to code in %s\" %(\"tushar0\", \"c++\"))"
   ]
  },
  {
   "cell_type": "code",
   "execution_count": 88,
   "id": "d9e80d33",
   "metadata": {},
   "outputs": [
    {
     "name": "stdout",
     "output_type": "stream",
     "text": [
      "hello my name is tushar & i love c++\n"
     ]
    }
   ],
   "source": [
    "# f-string method to formatt the str\n",
    "tushar = \"tushar\"\n",
    "c = \"c++\"\n",
    "\n",
    "print(f\"hello my name is {tushar} & i love {c}\")"
   ]
  },
  {
   "cell_type": "code",
   "execution_count": 89,
   "id": "11178931",
   "metadata": {},
   "outputs": [],
   "source": [
    "my_daily_list = ['tushar', 123, 0.256, {\"loda\", \"lasun\"}]"
   ]
  },
  {
   "cell_type": "code",
   "execution_count": 99,
   "id": "fef7c890",
   "metadata": {},
   "outputs": [],
   "source": [
    "t = my_daily_list[3]"
   ]
  },
  {
   "cell_type": "code",
   "execution_count": 100,
   "id": "81f4e7a0",
   "metadata": {},
   "outputs": [
    {
     "data": {
      "text/plain": [
       "set"
      ]
     },
     "execution_count": 100,
     "metadata": {},
     "output_type": "execute_result"
    }
   ],
   "source": [
    "type(t)"
   ]
  },
  {
   "cell_type": "code",
   "execution_count": 102,
   "id": "3e20bdc8",
   "metadata": {},
   "outputs": [],
   "source": [
    "my_daily_list[0] = \"hemu\""
   ]
  },
  {
   "cell_type": "code",
   "execution_count": 103,
   "id": "13d859fb",
   "metadata": {},
   "outputs": [
    {
     "data": {
      "text/plain": [
       "['hemu', 123, 0.256, {'lasun', 'loda'}]"
      ]
     },
     "execution_count": 103,
     "metadata": {},
     "output_type": "execute_result"
    }
   ],
   "source": [
    "my_daily_list #mutable"
   ]
  },
  {
   "cell_type": "code",
   "execution_count": 105,
   "id": "3e69166d",
   "metadata": {},
   "outputs": [
    {
     "data": {
      "text/plain": [
       "['hemu', 123, 0.256, {'lasun', 'loda'}, 125897]"
      ]
     },
     "execution_count": 105,
     "metadata": {},
     "output_type": "execute_result"
    }
   ],
   "source": [
    "my_daily_list + [125897] #concatenation of list"
   ]
  },
  {
   "cell_type": "code",
   "execution_count": 106,
   "id": "b81c4382",
   "metadata": {},
   "outputs": [
    {
     "data": {
      "text/plain": [
       "{'lasun', 'loda'}"
      ]
     },
     "execution_count": 106,
     "metadata": {},
     "output_type": "execute_result"
    }
   ],
   "source": [
    "my_daily_list.pop()"
   ]
  },
  {
   "cell_type": "code",
   "execution_count": 107,
   "id": "4870c323",
   "metadata": {},
   "outputs": [],
   "source": [
    "my_daily_list.append(\"new gandu\")"
   ]
  },
  {
   "cell_type": "code",
   "execution_count": 109,
   "id": "027b8850",
   "metadata": {},
   "outputs": [],
   "source": [
    "my_daily_list.remove(\"hemu\")"
   ]
  },
  {
   "cell_type": "code",
   "execution_count": 111,
   "id": "4dec6f96",
   "metadata": {},
   "outputs": [
    {
     "data": {
      "text/plain": [
       "2"
      ]
     },
     "execution_count": 111,
     "metadata": {},
     "output_type": "execute_result"
    }
   ],
   "source": [
    "my_daily_list.index(\"new gandu\")"
   ]
  },
  {
   "cell_type": "code",
   "execution_count": 112,
   "id": "dec11e04",
   "metadata": {},
   "outputs": [],
   "source": [
    "new_list = [1, 2, 3, 4, 5]"
   ]
  },
  {
   "cell_type": "code",
   "execution_count": 113,
   "id": "c55a7fbc",
   "metadata": {},
   "outputs": [
    {
     "data": {
      "text/plain": [
       "[1, 2, 3, 4, 5]"
      ]
     },
     "execution_count": 113,
     "metadata": {},
     "output_type": "execute_result"
    }
   ],
   "source": [
    "new_list"
   ]
  },
  {
   "cell_type": "code",
   "execution_count": 114,
   "id": "5db11def",
   "metadata": {},
   "outputs": [],
   "source": [
    "new_list.reverse()"
   ]
  },
  {
   "cell_type": "code",
   "execution_count": 115,
   "id": "000a8dfc",
   "metadata": {},
   "outputs": [
    {
     "data": {
      "text/plain": [
       "[5, 4, 3, 2, 1]"
      ]
     },
     "execution_count": 115,
     "metadata": {},
     "output_type": "execute_result"
    }
   ],
   "source": [
    "new_list"
   ]
  },
  {
   "cell_type": "code",
   "execution_count": 116,
   "id": "412e4eca",
   "metadata": {},
   "outputs": [],
   "source": [
    "matrix = [[1,2,3],[4,5,6,],[7,8,9]]"
   ]
  },
  {
   "cell_type": "code",
   "execution_count": 117,
   "id": "70453472",
   "metadata": {},
   "outputs": [
    {
     "data": {
      "text/plain": [
       "[[1, 2, 3], [4, 5, 6], [7, 8, 9]]"
      ]
     },
     "execution_count": 117,
     "metadata": {},
     "output_type": "execute_result"
    }
   ],
   "source": [
    "matrix"
   ]
  },
  {
   "cell_type": "code",
   "execution_count": 119,
   "id": "537c51e3",
   "metadata": {},
   "outputs": [
    {
     "data": {
      "text/plain": [
       "2"
      ]
     },
     "execution_count": 119,
     "metadata": {},
     "output_type": "execute_result"
    }
   ],
   "source": [
    "matrix[0][1]"
   ]
  },
  {
   "cell_type": "code",
   "execution_count": 124,
   "id": "af5aec6e",
   "metadata": {},
   "outputs": [],
   "source": [
    "first_col = [row[0] for row in matrix]"
   ]
  },
  {
   "cell_type": "code",
   "execution_count": 125,
   "id": "dbefcd70",
   "metadata": {},
   "outputs": [
    {
     "data": {
      "text/plain": [
       "[1, 4, 7]"
      ]
     },
     "execution_count": 125,
     "metadata": {},
     "output_type": "execute_result"
    }
   ],
   "source": [
    "first_col"
   ]
  },
  {
   "cell_type": "code",
   "execution_count": 127,
   "id": "ef9e5270",
   "metadata": {},
   "outputs": [],
   "source": [
    "# key-value pair : {key : value}\n",
    "my_dict = {'F_name' : \"tushar\" , 'L_name' : \"singh\" , 'roll_num' : 157879}"
   ]
  },
  {
   "cell_type": "code",
   "execution_count": 128,
   "id": "82e2d6b5",
   "metadata": {},
   "outputs": [
    {
     "data": {
      "text/plain": [
       "{'F_name': 'tushar', 'L_name': 'singh', 'roll_num': 157879}"
      ]
     },
     "execution_count": 128,
     "metadata": {},
     "output_type": "execute_result"
    }
   ],
   "source": [
    "my_dict"
   ]
  },
  {
   "cell_type": "code",
   "execution_count": 129,
   "id": "fdf20987",
   "metadata": {},
   "outputs": [],
   "source": [
    "#tuples\n",
    "t = (1,25,65)"
   ]
  },
  {
   "cell_type": "code",
   "execution_count": 130,
   "id": "a3190567",
   "metadata": {},
   "outputs": [
    {
     "data": {
      "text/plain": [
       "(1, 25, 65)"
      ]
     },
     "execution_count": 130,
     "metadata": {},
     "output_type": "execute_result"
    }
   ],
   "source": [
    "t"
   ]
  },
  {
   "cell_type": "code",
   "execution_count": 131,
   "id": "f7480654",
   "metadata": {},
   "outputs": [
    {
     "data": {
      "text/plain": [
       "tuple"
      ]
     },
     "execution_count": 131,
     "metadata": {},
     "output_type": "execute_result"
    }
   ],
   "source": [
    "type(t)"
   ]
  },
  {
   "cell_type": "code",
   "execution_count": 132,
   "id": "40f54d35",
   "metadata": {},
   "outputs": [],
   "source": [
    "p = set() #unique elements"
   ]
  },
  {
   "cell_type": "code",
   "execution_count": 135,
   "id": "c90f7e92",
   "metadata": {},
   "outputs": [],
   "source": [
    "p.add(1)"
   ]
  },
  {
   "cell_type": "code",
   "execution_count": 137,
   "id": "78720ffd",
   "metadata": {},
   "outputs": [],
   "source": [
    "p.add(1)"
   ]
  },
  {
   "cell_type": "code",
   "execution_count": 138,
   "id": "9c196e40",
   "metadata": {},
   "outputs": [
    {
     "data": {
      "text/plain": [
       "{1}"
      ]
     },
     "execution_count": 138,
     "metadata": {},
     "output_type": "execute_result"
    }
   ],
   "source": [
    "p"
   ]
  },
  {
   "cell_type": "code",
   "execution_count": 139,
   "id": "bff4a2e8",
   "metadata": {},
   "outputs": [],
   "source": [
    "xx_list = [0,1,11,1,1,1,1,11,1,1,1,1,1,11,1,11,5,6,7,8,9,9,9,9,9,99,9,9,10,9,9]"
   ]
  },
  {
   "cell_type": "code",
   "execution_count": 143,
   "id": "280d9b0b",
   "metadata": {},
   "outputs": [
    {
     "data": {
      "text/plain": [
       "{0, 1, 5, 6, 7, 8, 9, 10, 11, 99}"
      ]
     },
     "execution_count": 143,
     "metadata": {},
     "output_type": "execute_result"
    }
   ],
   "source": [
    "set(xx_list) #it is always an ordered_set"
   ]
  },
  {
   "cell_type": "code",
   "execution_count": 144,
   "id": "276b88d3",
   "metadata": {},
   "outputs": [],
   "source": [
    "a = 10\n",
    "b = 9.5"
   ]
  },
  {
   "cell_type": "code",
   "execution_count": 145,
   "id": "74523d84",
   "metadata": {},
   "outputs": [
    {
     "data": {
      "text/plain": [
       "True"
      ]
     },
     "execution_count": 145,
     "metadata": {},
     "output_type": "execute_result"
    }
   ],
   "source": [
    "a >b"
   ]
  },
  {
   "cell_type": "code",
   "execution_count": 146,
   "id": "c8ec9ab1",
   "metadata": {},
   "outputs": [],
   "source": [
    "f = False\n",
    "t = True"
   ]
  },
  {
   "cell_type": "code",
   "execution_count": 148,
   "id": "df2ef48f",
   "metadata": {},
   "outputs": [
    {
     "data": {
      "text/plain": [
       "True"
      ]
     },
     "execution_count": 148,
     "metadata": {},
     "output_type": "execute_result"
    }
   ],
   "source": [
    "t | f #or operator"
   ]
  },
  {
   "cell_type": "code",
   "execution_count": 149,
   "id": "095c2a33",
   "metadata": {},
   "outputs": [
    {
     "data": {
      "text/plain": [
       "False"
      ]
     },
     "execution_count": 149,
     "metadata": {},
     "output_type": "execute_result"
    }
   ],
   "source": [
    "t & f #and operator"
   ]
  },
  {
   "cell_type": "code",
   "execution_count": 153,
   "id": "22646d8a",
   "metadata": {},
   "outputs": [
    {
     "name": "stderr",
     "output_type": "stream",
     "text": [
      "UsageError: Line magic function `%%writefile` not found.\n"
     ]
    }
   ],
   "source": [
    "# files in python\n",
    "\n",
    "%%writefile file_create.txt"
   ]
  },
  {
   "cell_type": "code",
   "execution_count": 151,
   "id": "65d395e6",
   "metadata": {},
   "outputs": [
    {
     "data": {
      "text/plain": [
       "'C:\\\\Users\\\\dell\\\\Desktop\\\\Python-practtise'"
      ]
     },
     "execution_count": 151,
     "metadata": {},
     "output_type": "execute_result"
    }
   ],
   "source": [
    "pwd"
   ]
  },
  {
   "cell_type": "code",
   "execution_count": 156,
   "id": "c2ba9bef",
   "metadata": {},
   "outputs": [
    {
     "name": "stdout",
     "output_type": "stream",
     "text": [
      "Writing test.txt\n"
     ]
    }
   ],
   "source": [
    "%%writefile test.txt\n",
    "First Line\n",
    "Second Line"
   ]
  },
  {
   "cell_type": "code",
   "execution_count": 157,
   "id": "be69592e",
   "metadata": {},
   "outputs": [
    {
     "data": {
      "text/plain": [
       "{'F_name': 'tushar', 'L_name': 'singh', 'roll_num': 157879}"
      ]
     },
     "execution_count": 157,
     "metadata": {},
     "output_type": "execute_result"
    }
   ],
   "source": [
    "my_dict"
   ]
  },
  {
   "cell_type": "code",
   "execution_count": 166,
   "id": "9c538e12",
   "metadata": {},
   "outputs": [
    {
     "name": "stdout",
     "output_type": "stream",
     "text": [
      "('F_name', 'tushar')\n",
      "('L_name', 'singh')\n",
      "('roll_num', 157879)\n"
     ]
    }
   ],
   "source": [
    "for ele in my_dict.items():\n",
    "    print(ele)"
   ]
  },
  {
   "cell_type": "code",
   "execution_count": 175,
   "id": "a4e07ec1",
   "metadata": {},
   "outputs": [
    {
     "name": "stdout",
     "output_type": "stream",
     "text": [
      "2\n",
      "4\n",
      "6\n",
      "8\n",
      "10\n",
      "12\n",
      "14\n",
      "16\n",
      "18\n",
      "20\n",
      "22\n"
     ]
    }
   ],
   "source": [
    "#print first 10 even numbers:\n",
    "cnt = 0\n",
    "num = 1\n",
    "while(cnt < 11):\n",
    "    if(num % 2 == 0):\n",
    "        cnt = cnt+1\n",
    "        print(num)\n",
    "    num = num + 1"
   ]
  },
  {
   "cell_type": "code",
   "execution_count": null,
   "id": "d502dafd",
   "metadata": {},
   "outputs": [],
   "source": []
  },
  {
   "cell_type": "code",
   "execution_count": null,
   "id": "cdb77e7e",
   "metadata": {},
   "outputs": [],
   "source": []
  },
  {
   "cell_type": "code",
   "execution_count": 190,
   "id": "379276fb",
   "metadata": {},
   "outputs": [
    {
     "name": "stdout",
     "output_type": "stream",
     "text": [
      "enter the start value for your range: 1\n",
      "enter the end value for your range: 9\n",
      "prime numbers are [2, 3, 5, 7]\n"
     ]
    }
   ],
   "source": [
    "# code to check for prime number in the given range : func() should return all the prime numbers in the given range(strat,end)\n",
    "\n",
    "import math\n",
    "\n",
    "# func() to check for prime\n",
    "def is_prime(num):\n",
    "    if(num <= 1):\n",
    "        return False\n",
    "    for i in range(2, int(math.sqrt(num)) + 1):\n",
    "        if(num % i == 0):\n",
    "            return False\n",
    "    return True\n",
    "\n",
    "# func() to check for prime in range\n",
    "def is_prime_in_range(start, end):\n",
    "    primes = []\n",
    "    for ele in range(start, end+1):\n",
    "        if(is_prime(ele)):\n",
    "            primes.append(ele)\n",
    "    return primes\n",
    "\n",
    "\n",
    "try:\n",
    "    start = int(input(\"enter the start value for your range: \"))\n",
    "    end = int(input(\"enter the end value for your range: \"))\n",
    "    \n",
    "    if(start > end):\n",
    "        print(\"starting number should be less than end number\")\n",
    "    else:\n",
    "        prime_num = is_prime_in_range(start, end)\n",
    "        print(\"prime numbers are {}\".format(prime_num))\n",
    "        \n",
    "except ValueError:\n",
    "    print(\"Please enter valid integer values for the range.\")"
   ]
  },
  {
   "cell_type": "code",
   "execution_count": 191,
   "id": "2d220963",
   "metadata": {},
   "outputs": [],
   "source": [
    "list_1 = [1,2,3,4,5]"
   ]
  },
  {
   "cell_type": "code",
   "execution_count": 196,
   "id": "91c0bc6d",
   "metadata": {},
   "outputs": [],
   "source": [
    "list_2 = ['a','b','c','d','e']"
   ]
  },
  {
   "cell_type": "code",
   "execution_count": 198,
   "id": "c9ed9b01",
   "metadata": {},
   "outputs": [
    {
     "data": {
      "text/plain": [
       "[(1, 'a'), (2, 'b'), (3, 'c'), (4, 'd'), (5, 'e')]"
      ]
     },
     "execution_count": 198,
     "metadata": {},
     "output_type": "execute_result"
    }
   ],
   "source": [
    "list(zip(list_1,list_2))"
   ]
  },
  {
   "cell_type": "code",
   "execution_count": 200,
   "id": "f00faf82",
   "metadata": {},
   "outputs": [
    {
     "name": "stdout",
     "output_type": "stream",
     "text": [
      "num is 1 & ele is a\n",
      "num is 2 & ele is b\n",
      "num is 3 & ele is c\n",
      "num is 4 & ele is d\n",
      "num is 5 & ele is e\n"
     ]
    }
   ],
   "source": [
    "for num,ele in zip(list_1,list_2):\n",
    "    print(\"num is {} & ele is {}\".format(num, ele))"
   ]
  },
  {
   "cell_type": "code",
   "execution_count": 201,
   "id": "6ba95a66",
   "metadata": {},
   "outputs": [],
   "source": [
    "from random import shuffle"
   ]
  },
  {
   "cell_type": "code",
   "execution_count": 202,
   "id": "e772cf50",
   "metadata": {},
   "outputs": [],
   "source": [
    "shuffle(list_1)"
   ]
  },
  {
   "cell_type": "code",
   "execution_count": 203,
   "id": "af3779f0",
   "metadata": {},
   "outputs": [
    {
     "data": {
      "text/plain": [
       "[5, 3, 1, 4, 2]"
      ]
     },
     "execution_count": 203,
     "metadata": {},
     "output_type": "execute_result"
    }
   ],
   "source": [
    "list_1"
   ]
  },
  {
   "cell_type": "code",
   "execution_count": 204,
   "id": "db199802",
   "metadata": {},
   "outputs": [],
   "source": [
    "from random import randint"
   ]
  },
  {
   "cell_type": "code",
   "execution_count": 207,
   "id": "0f628565",
   "metadata": {},
   "outputs": [
    {
     "name": "stdout",
     "output_type": "stream",
     "text": [
      "358\n"
     ]
    }
   ],
   "source": [
    "random_num = randint(99,669)\n",
    "print(random_num)"
   ]
  },
  {
   "cell_type": "code",
   "execution_count": 208,
   "id": "c6a9f328",
   "metadata": {},
   "outputs": [],
   "source": [
    "#list comprehension\n",
    "\n",
    "lst = [x for x in 'tushar']"
   ]
  },
  {
   "cell_type": "code",
   "execution_count": 209,
   "id": "60a541b6",
   "metadata": {},
   "outputs": [
    {
     "data": {
      "text/plain": [
       "['t', 'u', 's', 'h', 'a', 'r']"
      ]
     },
     "execution_count": 209,
     "metadata": {},
     "output_type": "execute_result"
    }
   ],
   "source": [
    "lst"
   ]
  },
  {
   "cell_type": "code",
   "execution_count": 214,
   "id": "f83b5394",
   "metadata": {},
   "outputs": [],
   "source": [
    "num_lst = [x**2 for x in range(0,11) if x%2==0]"
   ]
  },
  {
   "cell_type": "code",
   "execution_count": 215,
   "id": "a812102f",
   "metadata": {},
   "outputs": [
    {
     "data": {
      "text/plain": [
       "[0, 4, 16, 36, 64, 100]"
      ]
     },
     "execution_count": 215,
     "metadata": {},
     "output_type": "execute_result"
    }
   ],
   "source": [
    "num_lst"
   ]
  },
  {
   "cell_type": "code",
   "execution_count": 220,
   "id": "d1cfe533",
   "metadata": {},
   "outputs": [],
   "source": [
    "st = 'Print only the words that start with s in this sentence'"
   ]
  },
  {
   "cell_type": "code",
   "execution_count": 229,
   "id": "fd59dd07",
   "metadata": {},
   "outputs": [
    {
     "name": "stdout",
     "output_type": "stream",
     "text": [
      "start\n",
      "s\n",
      "sentence\n"
     ]
    }
   ],
   "source": [
    "for ele in st.split():\n",
    "    if ele[0] == 's':\n",
    "        print(ele)"
   ]
  },
  {
   "cell_type": "code",
   "execution_count": 232,
   "id": "7ec975ad",
   "metadata": {},
   "outputs": [
    {
     "data": {
      "text/plain": [
       "['only', 'that', 'with', 'in', 'this', 'sentence']"
      ]
     },
     "execution_count": 232,
     "metadata": {},
     "output_type": "execute_result"
    }
   ],
   "source": [
    "# to print the list of all even words in st\n",
    "lst_even = []\n",
    "\n",
    "for num in st.split():\n",
    "    if len(num) % 2 == 0:\n",
    "        lst_even.append(num)\n",
    "        \n",
    "lst_even"
   ]
  },
  {
   "cell_type": "code",
   "execution_count": 227,
   "id": "73102f0d",
   "metadata": {},
   "outputs": [
    {
     "data": {
      "text/plain": [
       "[0, 2, 4, 6, 8, 10, 12, 14, 16, 18, 20]"
      ]
     },
     "execution_count": 227,
     "metadata": {},
     "output_type": "execute_result"
    }
   ],
   "source": [
    "even_num = list(range(0,21,2))  # start : stop : step\n",
    "even_num"
   ]
  },
  {
   "cell_type": "code",
   "execution_count": 228,
   "id": "fd993e96",
   "metadata": {},
   "outputs": [
    {
     "data": {
      "text/plain": [
       "[0, 3, 6, 9, 12, 15, 18, 21, 24, 27, 30, 33, 36, 39, 42, 45, 48]"
      ]
     },
     "execution_count": 228,
     "metadata": {},
     "output_type": "execute_result"
    }
   ],
   "source": [
    "[x for x in range(0,51) if x%3==0]"
   ]
  },
  {
   "cell_type": "code",
   "execution_count": 236,
   "id": "c8409169",
   "metadata": {},
   "outputs": [
    {
     "name": "stdout",
     "output_type": "stream",
     "text": [
      "FizzBuzz\n",
      "error 404\n",
      "error 404\n",
      "FizzBuzz\n",
      "error 404\n",
      "Buzz\n",
      "FizzBuzz\n"
     ]
    }
   ],
   "source": [
    "# print num on specific condition\n",
    "def print_ele(limit):\n",
    "    for x in range(0, limit):\n",
    "        if x%3==0 & x%5==0:\n",
    "            print(\"FizzBuzz\")\n",
    "        elif x%3==0:\n",
    "            print(\"Fizz\")\n",
    "        elif x%5==0:\n",
    "            print(\"Buzz\")\n",
    "        else:\n",
    "            print(\"error 404\")\n",
    "    \n",
    "        \n",
    "print_ele(7)"
   ]
  },
  {
   "cell_type": "code",
   "execution_count": null,
   "id": "40550056",
   "metadata": {},
   "outputs": [],
   "source": []
  },
  {
   "cell_type": "code",
   "execution_count": null,
   "id": "d00a9263",
   "metadata": {},
   "outputs": [],
   "source": []
  },
  {
   "cell_type": "code",
   "execution_count": null,
   "id": "f356299e",
   "metadata": {},
   "outputs": [],
   "source": []
  },
  {
   "cell_type": "code",
   "execution_count": null,
   "id": "73acff68",
   "metadata": {},
   "outputs": [],
   "source": []
  },
  {
   "cell_type": "code",
   "execution_count": null,
   "id": "82b97c99",
   "metadata": {},
   "outputs": [],
   "source": []
  },
  {
   "cell_type": "code",
   "execution_count": null,
   "id": "636ea52d",
   "metadata": {},
   "outputs": [],
   "source": []
  }
 ],
 "metadata": {
  "kernelspec": {
   "display_name": "Python 3 (ipykernel)",
   "language": "python",
   "name": "python3"
  },
  "language_info": {
   "codemirror_mode": {
    "name": "ipython",
    "version": 3
   },
   "file_extension": ".py",
   "mimetype": "text/x-python",
   "name": "python",
   "nbconvert_exporter": "python",
   "pygments_lexer": "ipython3",
   "version": "3.9.18"
  }
 },
 "nbformat": 4,
 "nbformat_minor": 5
}
