{
 "cells": [
  {
   "cell_type": "code",
   "execution_count": 9,
   "id": "224a240d",
   "metadata": {},
   "outputs": [
    {
     "ename": "TypeError",
     "evalue": "not all arguments converted during string formatting",
     "output_type": "error",
     "traceback": [
      "\u001b[1;31m---------------------------------------------------------------------------\u001b[0m",
      "\u001b[1;31mTypeError\u001b[0m                                 Traceback (most recent call last)",
      "Cell \u001b[1;32mIn[9], line 10\u001b[0m\n\u001b[0;32m      7\u001b[0m             even_lst\u001b[38;5;241m.\u001b[39mappend(ele)\n\u001b[0;32m      8\u001b[0m     \u001b[38;5;28;01mreturn\u001b[39;00m even_lst\n\u001b[1;32m---> 10\u001b[0m \u001b[43meven_num_lst\u001b[49m\u001b[43m(\u001b[49m\u001b[43m[\u001b[49m\u001b[38;5;241;43m1\u001b[39;49m\u001b[43m,\u001b[49m\u001b[38;5;241;43m2\u001b[39;49m\u001b[43m,\u001b[49m\u001b[38;5;241;43m3\u001b[39;49m\u001b[43m,\u001b[49m\u001b[38;5;124;43m\"\u001b[39;49m\u001b[38;5;124;43mloda lasum\u001b[39;49m\u001b[38;5;124;43m\"\u001b[39;49m\u001b[43m,\u001b[49m\u001b[38;5;241;43m5\u001b[39;49m\u001b[43m]\u001b[49m\u001b[43m)\u001b[49m\n",
      "Cell \u001b[1;32mIn[9], line 6\u001b[0m, in \u001b[0;36meven_num_lst\u001b[1;34m(lst)\u001b[0m\n\u001b[0;32m      4\u001b[0m even_lst \u001b[38;5;241m=\u001b[39m []\n\u001b[0;32m      5\u001b[0m \u001b[38;5;28;01mfor\u001b[39;00m ele \u001b[38;5;129;01min\u001b[39;00m lst:\n\u001b[1;32m----> 6\u001b[0m     \u001b[38;5;28;01mif\u001b[39;00m(\u001b[43mele\u001b[49m\u001b[38;5;241;43m%\u001b[39;49m\u001b[38;5;241;43m2\u001b[39;49m\u001b[38;5;241m==\u001b[39m\u001b[38;5;241m0\u001b[39m):\n\u001b[0;32m      7\u001b[0m         even_lst\u001b[38;5;241m.\u001b[39mappend(ele)\n\u001b[0;32m      8\u001b[0m \u001b[38;5;28;01mreturn\u001b[39;00m even_lst\n",
      "\u001b[1;31mTypeError\u001b[0m: not all arguments converted during string formatting"
     ]
    }
   ],
   "source": [
    "# return all even num in list with exception handling :\n",
    "# this is the bad practise as this is not the production level code : phat jayega !!!! : ERROR !!!\n",
    "def even_num_lst(lst):\n",
    "    even_lst = []\n",
    "    for ele in lst:\n",
    "        if(ele%2==0):\n",
    "            even_lst.append(ele)\n",
    "    return even_lst\n",
    "\n",
    "even_num_lst([1,2,3,\"loda lasum\",5])\n",
    "    "
   ]
  },
  {
   "cell_type": "code",
   "execution_count": null,
   "id": "baf67e4f",
   "metadata": {},
   "outputs": [],
   "source": []
  },
  {
   "cell_type": "code",
   "execution_count": 20,
   "id": "39cd71eb",
   "metadata": {},
   "outputs": [
    {
     "name": "stdout",
     "output_type": "stream",
     "text": [
      "Enter the list of integers separated by spaces: 15 56 87 1 2 3 4 5 6 47 \n",
      "Even numbers in the list: [56, 2, 4, 6]\n"
     ]
    }
   ],
   "source": [
    "def even_num_lst(lst):\n",
    "    even_lst = []\n",
    "    for ele in lst:\n",
    "        if ele % 2 == 0:\n",
    "            even_lst.append(ele)\n",
    "    return even_lst\n",
    "\n",
    "#exception handling\n",
    "try:\n",
    "    \n",
    "    input_lst = input(\"Enter the list of integers separated by spaces: \").split()\n",
    "    \n",
    "    # Convert each element in the input list to an integer.\n",
    "    int_lst = []\n",
    "    for ele in input_lst:\n",
    "        try:\n",
    "            int_val = int(ele)\n",
    "            int_lst.append(int_val)\n",
    "        except ValueError:\n",
    "            print(f\"Invalid input '{ele}': Please enter only integer values.\")\n",
    "            raise  # Raising the error to exit if any non-integer value is encountered.\n",
    "    \n",
    "    \n",
    "    even_numbers = even_num_lst(int_lst)\n",
    "    print(\"Even numbers in the list:\", even_numbers)\n",
    "\n",
    "except ValueError:\n",
    "    print(\"Error: Non-integer value(s) detected in the input list. Please enter a list of integers only.\")\n"
   ]
  },
  {
   "cell_type": "code",
   "execution_count": null,
   "id": "78a65947",
   "metadata": {},
   "outputs": [],
   "source": []
  },
  {
   "cell_type": "code",
   "execution_count": 29,
   "id": "14b718f5",
   "metadata": {},
   "outputs": [
    {
     "name": "stdout",
     "output_type": "stream",
     "text": [
      "Enter the employee data in tuple format (e.g., (101, 'Alice', 28)): ('tushar',258), ('hemu',25), ('rohan',989)\n"
     ]
    },
    {
     "data": {
      "text/plain": [
       "('rohan', 989)"
      ]
     },
     "execution_count": 29,
     "metadata": {},
     "output_type": "execute_result"
    }
   ],
   "source": [
    "# write a func() to return the employee of the month : based on no. of hours worked\n",
    "\n",
    "def employee_of_month(employee_data):\n",
    "    max_hours = 0\n",
    "    best_emploee = ''\n",
    "    \n",
    "    for employee,working_hours in employee_data:\n",
    "        if working_hours > max_hours:\n",
    "            max_hours = working_hours\n",
    "            best_employee = employee\n",
    "        else:\n",
    "            pass\n",
    "    return (best_employee, max_hours)\n",
    "\n",
    "# employee_data = list(input(\"enter the employee data in tuples\"))\n",
    "employee_data = eval(input(\"Enter the employee data in tuple format (e.g., ('xxx', 999)): \"))\n",
    "\n",
    "employee_of_month(employee_data)"
   ]
  },
  {
   "cell_type": "code",
   "execution_count": null,
   "id": "b8fed761",
   "metadata": {},
   "outputs": [],
   "source": []
  },
  {
   "cell_type": "code",
   "execution_count": 30,
   "id": "12febe62",
   "metadata": {},
   "outputs": [
    {
     "data": {
      "text/plain": [
       "113"
      ]
     },
     "execution_count": 30,
     "metadata": {},
     "output_type": "execute_result"
    }
   ],
   "source": [
    "## sum num\n",
    "\n",
    "def sum_num(*args):\n",
    "    return sum(args)\n",
    "\n",
    "sum_num(10,5,98) # can call any num's in sum_num func()\n",
    "\n",
    "# the return type of *args is tuples while **kwargs has dict type()"
   ]
  },
  {
   "cell_type": "code",
   "execution_count": 34,
   "id": "6f31407c",
   "metadata": {},
   "outputs": [
    {
     "name": "stdout",
     "output_type": "stream",
     "text": [
      "{'veggie': 'potato', 'fruit': 'mango'}\n",
      "fav veggie is potato\n"
     ]
    }
   ],
   "source": [
    "def check_test(**kwargs):\n",
    "    print(kwargs)\n",
    "    if 'veggie' in kwargs:\n",
    "        print(\"fav veggie is {}\".format(kwargs['veggie']))\n",
    "    else:\n",
    "        print(\"i didn't like veggie's\")\n",
    "        \n",
    "check_test(veggie = 'potato' , fruit = 'mango')"
   ]
  },
  {
   "cell_type": "code",
   "execution_count": null,
   "id": "bb080539",
   "metadata": {},
   "outputs": [],
   "source": []
  },
  {
   "cell_type": "code",
   "execution_count": null,
   "id": "5c2953b8",
   "metadata": {},
   "outputs": [],
   "source": []
  },
  {
   "cell_type": "code",
   "execution_count": null,
   "id": "b784d560",
   "metadata": {},
   "outputs": [],
   "source": []
  },
  {
   "cell_type": "code",
   "execution_count": 37,
   "id": "692cf069",
   "metadata": {},
   "outputs": [],
   "source": [
    "s = 'Anthropomorphism'"
   ]
  },
  {
   "cell_type": "code",
   "execution_count": 41,
   "id": "dc510fc9",
   "metadata": {},
   "outputs": [],
   "source": [
    "def lower_func(s):\n",
    "    ans = ''\n",
    "    \n",
    "    for i,ch in enumerate(s):\n",
    "        if i%2==0 :\n",
    "            ans += ch.lower()\n",
    "        else:\n",
    "            ans += ch.upper()\n",
    "            \n",
    "    return ans"
   ]
  },
  {
   "cell_type": "code",
   "execution_count": 42,
   "id": "8e97ebd1",
   "metadata": {},
   "outputs": [
    {
     "data": {
      "text/plain": [
       "'aNtHrOpOmOrPhIsM'"
      ]
     },
     "execution_count": 42,
     "metadata": {},
     "output_type": "execute_result"
    }
   ],
   "source": [
    "lower_func(s)"
   ]
  },
  {
   "cell_type": "code",
   "execution_count": null,
   "id": "af755b57",
   "metadata": {},
   "outputs": [],
   "source": []
  },
  {
   "cell_type": "code",
   "execution_count": null,
   "id": "77c7cd11",
   "metadata": {},
   "outputs": [],
   "source": []
  },
  {
   "cell_type": "code",
   "execution_count": 43,
   "id": "ffcea262",
   "metadata": {},
   "outputs": [],
   "source": [
    "code = [0,0,7,'Thala_for_a_reason']"
   ]
  },
  {
   "cell_type": "code",
   "execution_count": 44,
   "id": "f641caed",
   "metadata": {},
   "outputs": [],
   "source": [
    "def thala_for_a_reason(lst):\n",
    "    for ele in lst:\n",
    "        if ele == code[0]:\n",
    "            code.pop(0)\n",
    "            \n",
    "    return len(code) == 1"
   ]
  },
  {
   "cell_type": "code",
   "execution_count": 45,
   "id": "c9f0a281",
   "metadata": {},
   "outputs": [
    {
     "data": {
      "text/plain": [
       "True"
      ]
     },
     "execution_count": 45,
     "metadata": {},
     "output_type": "execute_result"
    }
   ],
   "source": [
    "thala_for_a_reason([1,0,4,5,9,7,0,0,7])"
   ]
  },
  {
   "cell_type": "code",
   "execution_count": 46,
   "id": "0799f210",
   "metadata": {},
   "outputs": [
    {
     "name": "stdout",
     "output_type": "stream",
     "text": [
      "[1, 4, 9, 16, 25]\n"
     ]
    }
   ],
   "source": [
    "# map & filter func()\n",
    "\n",
    "nums = [1,2,3,4,5]\n",
    "\n",
    "square_num = list(map(lambda x: x**2 , nums))\n",
    "print(square_num)"
   ]
  },
  {
   "cell_type": "code",
   "execution_count": 47,
   "id": "a13fb5ac",
   "metadata": {},
   "outputs": [
    {
     "name": "stdout",
     "output_type": "stream",
     "text": [
      "[2, 4, 6, 8, 10, 12]\n"
     ]
    }
   ],
   "source": [
    "even_num = [1,2,3,4,5,6,7,8,9,10,12]\n",
    "\n",
    "even_number = list(filter(lambda x : x%2==0 , even_num))\n",
    "print(even_number)"
   ]
  },
  {
   "cell_type": "code",
   "execution_count": null,
   "id": "b6354e84",
   "metadata": {},
   "outputs": [],
   "source": []
  },
  {
   "cell_type": "code",
   "execution_count": null,
   "id": "82774657",
   "metadata": {},
   "outputs": [],
   "source": []
  },
  {
   "cell_type": "code",
   "execution_count": 72,
   "id": "8549876e",
   "metadata": {},
   "outputs": [
    {
     "name": "stdout",
     "output_type": "stream",
     "text": [
      "check for x : -10\n",
      "check for x : -10\n"
     ]
    }
   ],
   "source": [
    "x = -10\n",
    "print(\"check for x : {}\".format(x))\n",
    "def scope_undertsanding(x):\n",
    "    print(x)\n",
    "    for ele in range(0,1):\n",
    "        x = 50\n",
    "        print(x)\n",
    "        for num in range(0,1):\n",
    "            x = 99\n",
    "            print(x)\n",
    "        print(x)\n",
    "    print(x)\n",
    "print(\"check for x : {}\".format(x))"
   ]
  },
  {
   "cell_type": "code",
   "execution_count": 73,
   "id": "a6da3d75",
   "metadata": {},
   "outputs": [
    {
     "name": "stdout",
     "output_type": "stream",
     "text": [
      "10\n",
      "50\n",
      "99\n",
      "99\n",
      "99\n"
     ]
    }
   ],
   "source": [
    "scope_undertsanding(10)"
   ]
  },
  {
   "cell_type": "code",
   "execution_count": null,
   "id": "a7141ddd",
   "metadata": {},
   "outputs": [],
   "source": []
  },
  {
   "cell_type": "code",
   "execution_count": null,
   "id": "f86e1fa2",
   "metadata": {},
   "outputs": [],
   "source": []
  }
 ],
 "metadata": {
  "kernelspec": {
   "display_name": "Python 3 (ipykernel)",
   "language": "python",
   "name": "python3"
  },
  "language_info": {
   "codemirror_mode": {
    "name": "ipython",
    "version": 3
   },
   "file_extension": ".py",
   "mimetype": "text/x-python",
   "name": "python",
   "nbconvert_exporter": "python",
   "pygments_lexer": "ipython3",
   "version": "3.9.18"
  }
 },
 "nbformat": 4,
 "nbformat_minor": 5
}
